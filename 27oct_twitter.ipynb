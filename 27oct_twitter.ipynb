{
 "cells": [
  {
   "cell_type": "code",
   "execution_count": 27,
   "metadata": {
    "collapsed": false
   },
   "outputs": [],
   "source": [
    "# Anaconda prompt->python -m pip install tweepy\n",
    "#import tweepy\n",
    "import tweepy\n",
    "\n",
    "Consumer_Key= 'qAvcPavXcwlN4iLqANYVOWtli'\n",
    "\n",
    "Consumer_Secret= 'YMgHlRTdnzXOGqkfP6mLaknTPqXSsuEGkC7peaWVCYBayhvqhO'\n",
    "\n",
    "Access_key = '923848491935379456-RbQrjYORDVk7QFXqwfao4Xch0V5sQpP'\n",
    "\n",
    "Access_Secret = 'o45Hl0AvNTCaPsSCEba1EemTUPY6pJtG0jiEd69eYC8Lv'\n",
    "\n",
    "#create twitter client-this information is obtained from the documentation\n",
    "#it is hard to make sense of it without reference to the documentaion.\n",
    "\n",
    "auth = tweepy.OAuthHandler(Consumer_Key,Consumer_Secret)\n",
    "api_client = tweepy.API(auth)\n",
    "\n",
    "\n",
    "tweets = tweepy.Cursor(api_client.search,q=\"flu jab\",result_type=\"popular\",include_entities=True,lang=\"en\").items(10)\n"
   ]
  },
  {
   "cell_type": "code",
   "execution_count": 15,
   "metadata": {
    "collapsed": false
   },
   "outputs": [
    {
     "name": "stdout",
     "output_type": "stream",
     "text": [
      "A flu outbreak could make winter pressures more severe for NHS than ever before. But govt staggeringly complacent https://t.co/8AK9wWgSVX\n",
      "Around 2,500 people with a heart disease are killed by flu every winter. Ask GP or pharmacist about the free flu ja… https://t.co/6gpxx1UQaQ\n",
      "UK at risk as more than 500,000 missing out on flu jab, says Labour https://t.co/XPl8j8RIrn\n",
      "Pregnant? Flu can cause serious complications\n",
      "for you and your baby. Protect yourself now, with the free flu jab\n",
      "Ih… https://t.co/TcVeHasrS5\n",
      "Thousands of old people and children may not get flu jab\n",
      "\n",
      "https://t.co/u4wVy1QU6f\n",
      "Flu can become very serious for people with long term health conditions. \n",
      "Ask your #GP about the flu jab today ...… https://t.co/waYsU398sm\n",
      "You know whats not cool? Getting the #flu. Be cool, get your #jab. #flufighter https://t.co/OhXVqn7sy5\n",
      "If you're 65 or over, you should speak to your GP or pharmacist about the free flu jab now #StayWellThisWinter… https://t.co/JXpRPu9OLc\n",
      "Next month tell us why you got the flu jab and nominate a colleague to get theirs as part of the @NHSflufighter's c… https://t.co/33gy8O7IUO\n",
      "Around 3,500 people with a lung disease are killed by flu every winter. Ask GP or pharmacist about the free flu jab… https://t.co/ZCRbTYH2ho\n"
     ]
    }
   ],
   "source": [
    "for t in tweets:\n",
    "    print(t.text)"
   ]
  },
  {
   "cell_type": "code",
   "execution_count": 104,
   "metadata": {
    "collapsed": false
   },
   "outputs": [],
   "source": [
    "import csv\n",
    "import codecs\n",
    "\n",
    "\n",
    "def get_tweets(expression_in, count_in):\n",
    "    \n",
    "    list_out = []\n",
    "    tweets = tweepy.Cursor(api_client.search,\n",
    "                           q=expression_in,result_type='recent',\n",
    "                           include_entities=True,lang=\"en\").items(count_in)\n",
    "    \n",
    "    tweets_list = list(tweets)\n",
    "    for t in tweets_list:\n",
    "        list_out.append( (t.author.screen_name,t.author.followers_count, t.text) )\n",
    "    return list_out\n",
    "\n",
    "\n",
    "def aggregate_tweets(tweets_list_in):\n",
    "\n",
    "    #input: [ 'this is a tweet' , 'this is the second tweet']\n",
    "    #output: 'this is a tweet this is second tweet'\n",
    "    tweet_string_out = ' '.join(tweets_list_in)  # this is the opposite of split\n",
    "    \n",
    "    \n",
    "    return tweet_string_out\n",
    "\n",
    "\n",
    "\n",
    "def write_info_to_csv(tweet_info_list,csv_file_name):\n",
    "    #with open(csv_file_name,'w',) as my_file:  # apple\n",
    "    with codecs.open(csv_file_name,'w', encoding='utf8') as my_file: #Microsoft version\n",
    "        writer = csv.writer(my_file, dialect='excel')\n",
    "        writer.writerows(tweet_info_list)\n",
    "        \n",
    "    return\n",
    "        \n",
    "        \n",
    "        \n",
    "\n",
    "def write_freq_to_csv(freq_table,csv_file_name):\n",
    "    with codecs.open(csv_file_name,'w', encoding='utf8') as my_file: #Microsoft version\n",
    "        writer = csv.writer(my_file, dialect='excel')\n",
    "        writer.writerows(freq_table)\n",
    "        \n",
    "    return\n",
    "\n",
    "\n",
    "def aggregate_tweets(tweets_list_in):\n",
    "\n",
    "    #input: [ 'this is a tweet' , 'this is the second tweet']\n",
    "    #output: 'this is a tweet this is second tweet'\n",
    "    tweet_string_out = ' '.join(tweets_list_in)  # this is the opposite of split\n",
    "    \n",
    "    \n",
    "    return tweet_string_out\n",
    "\n",
    "def get_word_freq(string_in): # hello world hello everyone\n",
    "    string_in_words = string_in.split()\n",
    "    freq_table = {}\n",
    "    \n",
    "    for w in string_in_words:\n",
    "        if w in freq_table:\n",
    "            freq_table[w] = freq_table[w] + 1\n",
    "        else:\n",
    "            freq_table[w] = 1\n",
    "            \n",
    "    freq_table = list(freq_table.items())\n",
    "    freq_table.sort(key=lambda x: x[1], reverse=True)\n",
    "    return freq_table\n",
    "    # next fucntion to build is to concatinate the strings to one string\n",
    "\n",
    "my_blacklist = ['a', 'and', 'or', 'the', 'if', 'have', 'we', 'with', 'RT','in','to','be']\n",
    "def gen_csv(expression_in, count_in,tweet_file_name,freq_file_name):\n",
    "    tweets = get_tweets(expression_in, count_in)\n",
    "    write_info_to_csv(tweets, tweet_file_name)\n",
    "    \n",
    "    my_tweet_string = [x[2] for x in tweets]\n",
    "    tweet_string = aggregate_tweets(my_tweet_string)\n",
    "    frequencies = get_word_freq(tweet_string)\n",
    "    frequencies = filter_words(my_blacklist, frequencies)\n",
    "    write_freq_to_csv(frequencies, freq_file_name)\n",
    "    \n",
    "    return\n",
    "\n",
    "\n",
    "my_marketing_list = [\n",
    "    ('tesco', 25, 'tesco_tweets.csv', 'tesco_freq.csv'),\n",
    "    ('sainsbury', 25, 'sainsburys_tweets.csv', 'sainsburys_freq.csv'),\n",
    "    ('asda', 25, 'asda_tweets.csv', 'asda_freq.csv'),\n",
    "    ('waitrose', 25, 'waitrose_tweets.csv', 'waitrose_freq.csv')\n",
    "]\n",
    "\n",
    "\n",
    "def auto_gen_csv(my_marketing_list):\n",
    "    for m in my_marketing_list:\n",
    "        gen_csv(m[0],m[1],m[2],m[3])\n",
    "        \n",
    "    return\n",
    "\n",
    "\n",
    "def filter_words(blacklist, freq_list_in):\n",
    "    \n",
    "    return [f for f in freq_list_in if (f[0] not in blacklist) and ('http' not in f[0]) and ('www' not in f[0]) and ('@' not in f[0][0])]\n",
    "    \n",
    "    # example blacklist = ['and','it','a']\n",
    "    #ex: freq_list = [    ('london',10) , ('tesco',5),('and',2) ,('home', 3)  ]\n",
    "    #output should be:\n",
    "    #[('london',10), ('tesco',5), ('home', 3)]\n",
    "    \n",
    "    "
   ]
  },
  {
   "cell_type": "code",
   "execution_count": 105,
   "metadata": {
    "collapsed": false
   },
   "outputs": [],
   "source": [
    "auto_gen_csv(my_marketing_list)   # you have to delete exisiting file from the folder if you are updating"
   ]
  },
  {
   "cell_type": "code",
   "execution_count": 95,
   "metadata": {
    "collapsed": false
   },
   "outputs": [
    {
     "data": {
      "text/plain": [
       "[('london', 10), ('tesco', 5), ('home', 3)]"
      ]
     },
     "execution_count": 95,
     "metadata": {},
     "output_type": "execute_result"
    }
   ],
   "source": [
    "blacklist = ['and','it','a']\n",
    "freq_list = [    ('london',10) , ('tesco',5),('and',2) ,('home', 3)  ]\n",
    "\n",
    "filter_words(blacklist,freq_list)"
   ]
  },
  {
   "cell_type": "code",
   "execution_count": 77,
   "metadata": {
    "collapsed": false
   },
   "outputs": [],
   "source": [
    "gen_csv('tesco', 100, 'tesco.csv', 'tesco_freq.csv')"
   ]
  },
  {
   "cell_type": "code",
   "execution_count": null,
   "metadata": {
    "collapsed": true
   },
   "outputs": [],
   "source": []
  },
  {
   "cell_type": "code",
   "execution_count": 68,
   "metadata": {
    "collapsed": false
   },
   "outputs": [
    {
     "data": {
      "text/plain": [
       "[('RT', 8),\n",
       " ('iPhone', 8),\n",
       " ('the', 6),\n",
       " ('8', 4),\n",
       " ('tweet', 4),\n",
       " ('me', 4),\n",
       " ('at', 4),\n",
       " ('you', 4),\n",
       " ('for', 4),\n",
       " ('to', 3),\n",
       " ('@TheiCollection:', 2),\n",
       " ('#CONCOURS', 2),\n",
       " ('Gagne', 2),\n",
       " ('un', 2),\n",
       " ('!', 2),\n",
       " ('1️⃣', 2),\n",
       " ('Follow', 2),\n",
       " ('@TheiCollection', 2),\n",
       " ('&amp;', 2),\n",
       " ('@GetRhinoShield', 2),\n",
       " ('2️⃣', 2),\n",
       " ('ce', 2),\n",
       " ('3️⃣', 2),\n",
       " ('Look', 2),\n",
       " (':', 2),\n",
       " ('https://t.co…', 2),\n",
       " ('@tim_cook:', 2),\n",
       " ('Gotta', 2),\n",
       " ('wait', 2),\n",
       " ('til', 2),\n",
       " ('Friday!', 2),\n",
       " ('Meet', 2),\n",
       " ('Apple', 2),\n",
       " ('Store', 2),\n",
       " ('a.m.', 2),\n",
       " ('—', 2),\n",
       " ('we’ll', 2),\n",
       " ('let', 2),\n",
       " ('open', 2),\n",
       " ('doors!', 2),\n",
       " ('#iPhone', 2),\n",
       " ('https://t.co/r9hFywLn3z', 2),\n",
       " ('OtterBox', 2),\n",
       " ('Commuter', 2),\n",
       " ('Series', 2),\n",
       " ('Case', 2),\n",
       " ('6/6s', 2),\n",
       " ('#iphone6scase', 2),\n",
       " ('@UnboxTherapy:', 2),\n",
       " ('OK', 2),\n",
       " ('@tim_cook', 2),\n",
       " ('one', 2),\n",
       " ('last', 2),\n",
       " ('try…', 2),\n",
       " ('If', 2),\n",
       " ('this', 2),\n",
       " ('gets', 2),\n",
       " ('10,000', 2),\n",
       " ('retweets', 2),\n",
       " ('send', 2),\n",
       " ('an', 2),\n",
       " ('X', 2),\n",
       " ('and', 2),\n",
       " ('I’ll', 2),\n",
       " ('donate', 2),\n",
       " ('$10,000', 2),\n",
       " ('char…', 2),\n",
       " ('A', 1),\n",
       " ('visitor', 1),\n",
       " ('just', 1),\n",
       " ('searched', 1),\n",
       " ('1867', 1),\n",
       " ('purchase', 1),\n",
       " ('apps', 1),\n",
       " ('see', 1),\n",
       " ('what', 1),\n",
       " ('they', 1),\n",
       " ('came', 1),\n",
       " ('across', 1),\n",
       " ('https://t.co/gmmN8sYWza', 1),\n",
       " ('https://t.co/vL4tTzQ602', 1),\n",
       " ('https://t.co/RKL5Bhy7QW', 1),\n",
       " ('HomePod', 1),\n",
       " ('will', 1),\n",
       " ('pass', 1),\n",
       " ('Siri', 1),\n",
       " ('queries', 1),\n",
       " ('beyond', 1),\n",
       " ('music', 1),\n",
       " ('playback', 1),\n",
       " ('linked', 1),\n",
       " ('or', 1),\n",
       " ('iPad', 1),\n",
       " ('processing', 1),\n",
       " ('https://t.co/qZ1YLRHb4L', 1),\n",
       " ('#AppleNews', 1)]"
      ]
     },
     "execution_count": 68,
     "metadata": {},
     "output_type": "execute_result"
    }
   ],
   "source": [
    "my_tweets = get_tweets('iphone', 10)\n",
    "my_tweets_string = [x[2] for x in my_tweets]\n",
    "tweet_string = aggregate_tweets(my_tweets_string)\n",
    "frequencies = get_word_freq(tweet_string)\n",
    "frequencies"
   ]
  },
  {
   "cell_type": "code",
   "execution_count": 63,
   "metadata": {
    "collapsed": false
   },
   "outputs": [
    {
     "data": {
      "text/plain": [
       "[('NewDeals_C52',\n",
       "  139,\n",
       "  'BlitzWolf USB 0.66ft/0.2m Charging Data Cable https://t.co/TIEyeqOhD8 #digital #market #deals #sales #today #iphone… https://t.co/hZfoaE3GF2'),\n",
       " ('mrlkdds',\n",
       "  11134,\n",
       "  'RT @tim_cook: Gotta wait til Friday! Meet me at the Apple Store at 8 a.m. — we’ll let you open the doors! #iPhone https://t.co/r9hFywLn3z'),\n",
       " ('jamesinsurrey',\n",
       "  1142,\n",
       "  'RT @JeremySteptoe: Nearly Friday, when our poverty as a nation is on show while people line up to spend £1149.00 on the latest iPhone X. ht…'),\n",
       " ('Foam60',\n",
       "  1408,\n",
       "  'Here’s What People Are Saying About the #iPhoneX: https://t.co/PaQK1UVZTk https://t.co/qwukpYzcj8'),\n",
       " ('eliot__67',\n",
       "  149,\n",
       "  'RT @TheiCollection: #CONCOURS \\n\\nGagne un iPhone 8 !\\n\\n1️⃣ Follow @TheiCollection &amp; @GetRhinoShield \\n2️⃣ RT ce tweet \\n3️⃣ Look : https://t.co…'),\n",
       " ('Miramonster17',\n",
       "  167,\n",
       "  'If y’all can’t see some of these emojis, it’s time to update your iPhone. 😜'),\n",
       " ('gagalicaglica',\n",
       "  19,\n",
       "  '@Dr_ashikapillay @Azania_ Is the Prisma App on AppStore ? What do you mean by \" iPhone app\"-AppStore? Tnx'),\n",
       " ('jo_elarthur',\n",
       "  80,\n",
       "  'RT @jdolcourt: Say no to lines: You can reserve your iPhone X for pickup starting Nov. 4 https://t.co/3C2esdP6DE @ggottsegen @CNET'),\n",
       " ('TefoMohapi',\n",
       "  3343,\n",
       "  \"RT @saifedean: Bitcoin won't be adopted like the iPhone because it's cool. It will be adopted like gunpowder: if you don't own it, you'll b…\"),\n",
       " ('singhgary25',\n",
       "  346,\n",
       "  'Just cause I’ve been a iPhone user always, I might consider getting IPhone X 🙄')]"
      ]
     },
     "execution_count": 63,
     "metadata": {},
     "output_type": "execute_result"
    }
   ],
   "source": [
    "my_tweets"
   ]
  },
  {
   "cell_type": "code",
   "execution_count": 64,
   "metadata": {
    "collapsed": false
   },
   "outputs": [
    {
     "data": {
      "text/plain": [
       "'BlitzWolf USB 0.66ft/0.2m Charging Data Cable https://t.co/TIEyeqOhD8 #digital #market #deals #sales #today #iphone… https://t.co/hZfoaE3GF2 RT @tim_cook: Gotta wait til Friday! Meet me at the Apple Store at 8 a.m. — we’ll let you open the doors! #iPhone https://t.co/r9hFywLn3z RT @JeremySteptoe: Nearly Friday, when our poverty as a nation is on show while people line up to spend £1149.00 on the latest iPhone X. ht… Here’s What People Are Saying About the #iPhoneX: https://t.co/PaQK1UVZTk https://t.co/qwukpYzcj8 RT @TheiCollection: #CONCOURS \\n\\nGagne un iPhone 8 !\\n\\n1️⃣ Follow @TheiCollection &amp; @GetRhinoShield \\n2️⃣ RT ce tweet \\n3️⃣ Look : https://t.co… If y’all can’t see some of these emojis, it’s time to update your iPhone. 😜 @Dr_ashikapillay @Azania_ Is the Prisma App on AppStore ? What do you mean by \" iPhone app\"-AppStore? Tnx RT @jdolcourt: Say no to lines: You can reserve your iPhone X for pickup starting Nov. 4 https://t.co/3C2esdP6DE @ggottsegen @CNET RT @saifedean: Bitcoin won\\'t be adopted like the iPhone because it\\'s cool. It will be adopted like gunpowder: if you don\\'t own it, you\\'ll b… Just cause I’ve been a iPhone user always, I might consider getting IPhone X 🙄'"
      ]
     },
     "execution_count": 64,
     "metadata": {},
     "output_type": "execute_result"
    }
   ],
   "source": [
    "tweet_string"
   ]
  },
  {
   "cell_type": "code",
   "execution_count": 36,
   "metadata": {
    "collapsed": false
   },
   "outputs": [],
   "source": [
    "my_tweets = get_tweets('iphone', 10)\n",
    "write_info_to_csv(my_tweets,'my_tweets.csv')"
   ]
  },
  {
   "cell_type": "code",
   "execution_count": null,
   "metadata": {
    "collapsed": true
   },
   "outputs": [],
   "source": []
  },
  {
   "cell_type": "code",
   "execution_count": 55,
   "metadata": {
    "collapsed": false
   },
   "outputs": [
    {
     "data": {
      "text/plain": [
       "['OK @tim_cook one last try… If this tweet gets 10,000 retweets you send me an iPhone X and I’ll donate $10,000 to the charity of your choice.',\n",
       " 'Soooo a week ago Apollo was glossy. Now it’s Space Gray. Video incoming 🔥\\n\\nShot on iPhone X https://t.co/KDNfxucqgS',\n",
       " \"Is the iPhone X's facial recognition twin compatible? https://t.co/BZfuJhajyG\",\n",
       " 'Screenshots on the iPhone X don’t have the notch... but they do look awkwardly tall. https://t.co/Qy1GOGwjyJ',\n",
       " 'NEW VIDEO - Apple iPhone X Unboxing! https://t.co/Fvrwg9pIxX - RT! https://t.co/xPO7TGiVWv',\n",
       " 'PSA 🚨  iOS 11.1 is live and gives us a bunch of new emojis to play with! https://t.co/I5xtkoDBUL https://t.co/x2S841YLEA',\n",
       " \"If you're one of the lucky ones who got an iPhone X, please, do us ALL a favor\\n\\nand produce The Emoji Movie 2 https://t.co/PHAH5XoOTn\",\n",
       " '#BoomBoomChallenge starts now. Start sending in your videos. One of you will win a new @apple iPhone X #BoomBoom https://t.co/99GkboSqps',\n",
       " 'In August, a pro-ISIS Telegram channel posted this pic of an individual displaying group’s flag on an iPhone in NYC… https://t.co/tLhdL9KPOO',\n",
       " '.@tim_cook I think that iPhone X you sent got lost along the way. Be a pal and pop a fresh one in the mail, the people need their therapy. 😘']"
      ]
     },
     "execution_count": 55,
     "metadata": {},
     "output_type": "execute_result"
    }
   ],
   "source": [
    "my_tweets"
   ]
  },
  {
   "cell_type": "code",
   "execution_count": 11,
   "metadata": {
    "collapsed": false
   },
   "outputs": [
    {
     "data": {
      "text/plain": [
       "['A flu outbreak could make winter pressures more severe for NHS than ever before. But govt staggeringly complacent https://t.co/8AK9wWgSVX',\n",
       " 'Around 2,500 people with a heart disease are killed by flu every winter. Ask GP or pharmacist about the free flu ja… https://t.co/6gpxx1UQaQ',\n",
       " 'UK at risk as more than 500,000 missing out on flu jab, says Labour https://t.co/XPl8j8RIrn',\n",
       " 'Pregnant? Flu can cause serious complications\\nfor you and your baby. Protect yourself now, with the free flu jab\\nIh… https://t.co/TcVeHasrS5',\n",
       " 'Thousands of old people and children may not get flu jab\\n\\nhttps://t.co/u4wVy1QU6f',\n",
       " 'Flu can become very serious for people with long term health conditions. \\nAsk your #GP about the flu jab today ...… https://t.co/waYsU398sm',\n",
       " 'You know whats not cool? Getting the #flu. Be cool, get your #jab. #flufighter https://t.co/OhXVqn7sy5',\n",
       " \"If you're 65 or over, you should speak to your GP or pharmacist about the free flu jab now #StayWellThisWinter… https://t.co/JXpRPu9OLc\",\n",
       " \"Next month tell us why you got the flu jab and nominate a colleague to get theirs as part of the @NHSflufighter's c… https://t.co/33gy8O7IUO\",\n",
       " 'Around 3,500 people with a lung disease are killed by flu every winter. Ask GP or pharmacist about the free flu jab… https://t.co/ZCRbTYH2ho']"
      ]
     },
     "execution_count": 11,
     "metadata": {},
     "output_type": "execute_result"
    }
   ],
   "source": [
    "get_tweets('flu jab', 10)"
   ]
  },
  {
   "cell_type": "code",
   "execution_count": 16,
   "metadata": {
    "collapsed": false
   },
   "outputs": [
    {
     "ename": "StopIteration",
     "evalue": "",
     "output_type": "error",
     "traceback": [
      "\u001b[0;31m---------------------------------------------------------------------------\u001b[0m",
      "\u001b[0;31mStopIteration\u001b[0m                             Traceback (most recent call last)",
      "\u001b[0;32m<ipython-input-16-0050e6b7198a>\u001b[0m in \u001b[0;36m<module>\u001b[0;34m()\u001b[0m\n\u001b[0;32m----> 1\u001b[0;31m \u001b[0mtweet\u001b[0m \u001b[1;33m=\u001b[0m \u001b[0mtweets\u001b[0m\u001b[1;33m.\u001b[0m\u001b[0mnext\u001b[0m\u001b[1;33m(\u001b[0m\u001b[1;33m)\u001b[0m\u001b[1;33m\u001b[0m\u001b[0m\n\u001b[0m\u001b[1;32m      2\u001b[0m \u001b[0mprint\u001b[0m\u001b[1;33m(\u001b[0m\u001b[0mtweet\u001b[0m\u001b[1;33m.\u001b[0m\u001b[0mtext\u001b[0m\u001b[1;33m)\u001b[0m\u001b[1;33m\u001b[0m\u001b[0m\n",
      "\u001b[0;32mC:\\Users\\User\\Anaconda3\\lib\\site-packages\\tweepy\\cursor.py\u001b[0m in \u001b[0;36mnext\u001b[0;34m(self)\u001b[0m\n\u001b[1;32m    192\u001b[0m         \u001b[1;32mif\u001b[0m \u001b[0mself\u001b[0m\u001b[1;33m.\u001b[0m\u001b[0mlimit\u001b[0m \u001b[1;33m>\u001b[0m \u001b[1;36m0\u001b[0m\u001b[1;33m:\u001b[0m\u001b[1;33m\u001b[0m\u001b[0m\n\u001b[1;32m    193\u001b[0m             \u001b[1;32mif\u001b[0m \u001b[0mself\u001b[0m\u001b[1;33m.\u001b[0m\u001b[0mnum_tweets\u001b[0m \u001b[1;33m==\u001b[0m \u001b[0mself\u001b[0m\u001b[1;33m.\u001b[0m\u001b[0mlimit\u001b[0m\u001b[1;33m:\u001b[0m\u001b[1;33m\u001b[0m\u001b[0m\n\u001b[0;32m--> 194\u001b[0;31m                 \u001b[1;32mraise\u001b[0m \u001b[0mStopIteration\u001b[0m\u001b[1;33m\u001b[0m\u001b[0m\n\u001b[0m\u001b[1;32m    195\u001b[0m         \u001b[1;32mif\u001b[0m \u001b[0mself\u001b[0m\u001b[1;33m.\u001b[0m\u001b[0mcurrent_page\u001b[0m \u001b[1;32mis\u001b[0m \u001b[1;32mNone\u001b[0m \u001b[1;32mor\u001b[0m \u001b[0mself\u001b[0m\u001b[1;33m.\u001b[0m\u001b[0mpage_index\u001b[0m \u001b[1;33m==\u001b[0m \u001b[0mlen\u001b[0m\u001b[1;33m(\u001b[0m\u001b[0mself\u001b[0m\u001b[1;33m.\u001b[0m\u001b[0mcurrent_page\u001b[0m\u001b[1;33m)\u001b[0m \u001b[1;33m-\u001b[0m \u001b[1;36m1\u001b[0m\u001b[1;33m:\u001b[0m\u001b[1;33m\u001b[0m\u001b[0m\n\u001b[1;32m    196\u001b[0m             \u001b[1;31m# Reached end of current page, get the next page...\u001b[0m\u001b[1;33m\u001b[0m\u001b[1;33m\u001b[0m\u001b[0m\n",
      "\u001b[0;31mStopIteration\u001b[0m: "
     ]
    }
   ],
   "source": [
    "tweet = tweets.next()\n",
    "print(tweet.text)"
   ]
  },
  {
   "cell_type": "code",
   "execution_count": 43,
   "metadata": {
    "collapsed": false
   },
   "outputs": [
    {
     "name": "stdout",
     "output_type": "stream",
     "text": [
      "katyaelisehenry\n"
     ]
    }
   ],
   "source": [
    "t=tweet.author.screen_name\n",
    "print(t)"
   ]
  },
  {
   "cell_type": "code",
   "execution_count": 44,
   "metadata": {
    "collapsed": false
   },
   "outputs": [
    {
     "name": "stdout",
     "output_type": "stream",
     "text": [
      "107426\n"
     ]
    }
   ],
   "source": [
    "print(tweet.author.followers_count)"
   ]
  },
  {
   "cell_type": "code",
   "execution_count": 45,
   "metadata": {
    "collapsed": false
   },
   "outputs": [
    {
     "data": {
      "text/plain": [
       "tweepy.cursor.ItemIterator"
      ]
     },
     "execution_count": 45,
     "metadata": {},
     "output_type": "execute_result"
    }
   ],
   "source": [
    "type(tweets)"
   ]
  },
  {
   "cell_type": "code",
   "execution_count": null,
   "metadata": {
    "collapsed": true
   },
   "outputs": [],
   "source": [
    "#The cursor method of tweepy return an itemiterator python onject.\n",
    "#so now by defalt our tweet are contained in an itemitarator object.\n",
    "#In python there are three ways(roughly) of dealing with itemiterator object:\n",
    "#1.PUT THE ITEMITERATOR inside a for loop,for eg\n",
    "#print(t.text)\n",
    "#2.cast the itemiterator into a list,then you can access it like a list\n",
    "#for eg:\n",
    "#tweet_lists = list(tweets)\n",
    "#my_first_tweet = tweet_list[0]\n",
    "#3. use the next() method of the itemiterator object:\n",
    "#for eg:\n",
    "#my_first_tweet = tweet_list.next()"
   ]
  },
  {
   "cell_type": "code",
   "execution_count": 59,
   "metadata": {
    "collapsed": true
   },
   "outputs": [],
   "source": [
    "def get_tweets_(expression_in, count_in):\n",
    "    \n",
    "    list_out = []\n",
    "    tweets = tweepy.Cursor(api_client.search,q=expression_in,result_type='popular',include_entities=True,lang=\"en\").items(count_in)\n",
    "    tweets_list = list(tweets)\n",
    "    for t in tweets_list:\n",
    "        list_out.append((tweet.author.screen_name,tweet.author.followers_count, t.text))\n",
    "    return list_out"
   ]
  },
  {
   "cell_type": "code",
   "execution_count": 67,
   "metadata": {
    "collapsed": false
   },
   "outputs": [],
   "source": [
    "my_list= get_tweets_('blade runner', 5)"
   ]
  },
  {
   "cell_type": "code",
   "execution_count": 61,
   "metadata": {
    "collapsed": true
   },
   "outputs": [],
   "source": [
    "def print_tweets(tweet_info_list):\n",
    "    for t in tweet_info_list:\n",
    "        print(\"user {}, with {} followers, tweeted:\".format(t[0], t[1]))\n",
    "        print(t[2])\n",
    "        print(\"\\n\")\n",
    "    return"
   ]
  },
  {
   "cell_type": "code",
   "execution_count": 68,
   "metadata": {
    "collapsed": false
   },
   "outputs": [
    {
     "name": "stdout",
     "output_type": "stream",
     "text": [
      "user katyaelisehenry, with 107426 followers, tweeted:\n",
      "Explore your memories in VR to uncover a conspiracy. Blade Runner 2049: Memory Lab is now on @Oculus Rift &amp; Gear VR… https://t.co/qmGDPXqtJM\n",
      "\n",
      "\n",
      "user katyaelisehenry, with 107426 followers, tweeted:\n",
      "It's a pity Blade Runner 2049 didn't do well at the box office. Go see it if you get the chance, it's utterly beaut… https://t.co/sxcDiwmmqU\n",
      "\n",
      "\n",
      "user katyaelisehenry, with 107426 followers, tweeted:\n",
      "‘Blade Runner 2049: Memory Lab’ Brings Human Actors To Cinematic VR via @KlyeOnFire https://t.co/TnBaQ9MwWV https://t.co/b88hl022II\n",
      "\n",
      "\n",
      "user katyaelisehenry, with 107426 followers, tweeted:\n",
      "Popping in for a moment to say this: BLADE RUNNER 2049 is a legit masterwork.\n",
      "\n",
      "\n",
      "user katyaelisehenry, with 107426 followers, tweeted:\n",
      "Watch Taylor Swift's new 'Blade Runner' inspired video for #ReadyForIt?' https://t.co/4XQbs9MDWZ https://t.co/fLE0L39Ah6\n",
      "\n",
      "\n"
     ]
    }
   ],
   "source": [
    "print_tweets(my_list)"
   ]
  },
  {
   "cell_type": "code",
   "execution_count": 69,
   "metadata": {
    "collapsed": false
   },
   "outputs": [
    {
     "ename": "NameError",
     "evalue": "name 'twitter_example' is not defined",
     "output_type": "error",
     "traceback": [
      "\u001b[0;31m---------------------------------------------------------------------------\u001b[0m",
      "\u001b[0;31mNameError\u001b[0m                                 Traceback (most recent call last)",
      "\u001b[0;32m<ipython-input-69-7ed6779b35da>\u001b[0m in \u001b[0;36m<module>\u001b[0;34m()\u001b[0m\n\u001b[0;32m----> 1\u001b[0;31m \u001b[0mmy_tweet_list\u001b[0m \u001b[1;33m=\u001b[0m \u001b[0mtwitter_example\u001b[0m\u001b[1;33m.\u001b[0m\u001b[0mget_tweets\u001b[0m\u001b[1;33m(\u001b[0m\u001b[1;34m\"blade runner\"\u001b[0m\u001b[1;33m,\u001b[0m \u001b[1;36m10\u001b[0m\u001b[1;33m)\u001b[0m\u001b[1;33m\u001b[0m\u001b[0m\n\u001b[0m",
      "\u001b[0;31mNameError\u001b[0m: name 'twitter_example' is not defined"
     ]
    }
   ],
   "source": [
    "my_tweet_list = twitter_example.get_tweets(\"blade runner\", 10)"
   ]
  },
  {
   "cell_type": "code",
   "execution_count": 63,
   "metadata": {
    "collapsed": false
   },
   "outputs": [
    {
     "ename": "NameError",
     "evalue": "name 'my_tweet_list' is not defined",
     "output_type": "error",
     "traceback": [
      "\u001b[0;31m---------------------------------------------------------------------------\u001b[0m",
      "\u001b[0;31mNameError\u001b[0m                                 Traceback (most recent call last)",
      "\u001b[0;32m<ipython-input-63-77fed7265052>\u001b[0m in \u001b[0;36m<module>\u001b[0;34m()\u001b[0m\n\u001b[0;32m----> 1\u001b[0;31m \u001b[0mmy_tweet_list\u001b[0m\u001b[1;33m.\u001b[0m\u001b[0msort\u001b[0m\u001b[1;33m(\u001b[0m\u001b[0mkey\u001b[0m\u001b[1;33m=\u001b[0m\u001b[1;32mlambda\u001b[0m \u001b[0mx\u001b[0m\u001b[1;33m:\u001b[0m \u001b[0mx\u001b[0m\u001b[1;33m[\u001b[0m\u001b[1;36m1\u001b[0m\u001b[1;33m]\u001b[0m\u001b[1;33m,\u001b[0m \u001b[0mreverse\u001b[0m \u001b[1;33m=\u001b[0m \u001b[1;32mTrue\u001b[0m\u001b[1;33m)\u001b[0m\u001b[1;33m\u001b[0m\u001b[0m\n\u001b[0m",
      "\u001b[0;31mNameError\u001b[0m: name 'my_tweet_list' is not defined"
     ]
    }
   ],
   "source": [
    "my_tweet_list.sort(key=lambda x: x[1], reverse = True)"
   ]
  },
  {
   "cell_type": "code",
   "execution_count": null,
   "metadata": {
    "collapsed": true
   },
   "outputs": [],
   "source": [
    "[w[1] for w in my_tweet_list]\n"
   ]
  },
  {
   "cell_type": "code",
   "execution_count": null,
   "metadata": {
    "collapsed": true
   },
   "outputs": [],
   "source": [
    "[w[1] for w in my_tweet_list if w[1] > 500]"
   ]
  },
  {
   "cell_type": "code",
   "execution_count": null,
   "metadata": {
    "collapsed": true
   },
   "outputs": [],
   "source": [
    "# 31 oct"
   ]
  },
  {
   "cell_type": "code",
   "execution_count": null,
   "metadata": {
    "collapsed": true
   },
   "outputs": [],
   "source": [
    "#def get_word_freq(string_in):\n",
    "    #freq_table = {}\n",
    "    # ex: get_word_freq(' I saw a dog yesterday with two other dog, One of the dog was really big.')\n",
    "    # freq_table = \n",
    "    #{'I' :1 , 'saw': 1 , 'the' : 3, 'dog':2 ... }\n",
    "    #fre_table.keys()\n",
    "    #sum( freq_table.values())\n",
    "    #all_words = freq_table.keys()\n",
    "    #all_words.sort( key = lambda x : freq_table[x]) \"returns the frequency of the words and sort it\""
   ]
  },
  {
   "cell_type": "code",
   "execution_count": 8,
   "metadata": {
    "collapsed": true
   },
   "outputs": [],
   "source": [
    "def get_word_freq(string_in): # hello world hello everyone\n",
    "    string_in_words = string_in.split()\n",
    "    freq_table = {}\n",
    "    \n",
    "    for w in string_in_words:\n",
    "        if w in freq_table:\n",
    "            freq_table[w] = freq_table[w] + 1\n",
    "        else:\n",
    "            freq_table[w] = 1\n",
    "            \n",
    "    freq_table = list(freq_table.items())\n",
    "    freq_table.sort(key=lambda x: x[1], reverse=True)\n",
    "    return freq_table\n",
    "    # next fucntion to build is to concatinate the strings to one string"
   ]
  },
  {
   "cell_type": "code",
   "execution_count": 69,
   "metadata": {
    "collapsed": true
   },
   "outputs": [],
   "source": [
    "import csv\n",
    "def aggregate_tweets(tweets_list_in):\n",
    "\n",
    "    #input: [ 'this is a tweet' , 'this is the second tweet']\n",
    "    #output: 'this is a tweet this is second tweet'\n",
    "    tweet_string_out = ' '.join(tweets_list_in)  # this is the opposite of split\n",
    "    \n",
    "    \n",
    "    return tweet_string_out\n",
    "\n",
    "\n",
    "\n",
    "def write_info_to_csv(tweet_info_list,csv_file_name):\n",
    "    with open(csv_file_name,'w', newline='') as my_file:\n",
    "        writer = csv.writer(my_file)\n",
    "        writer.writerows(tweet_info_list)"
   ]
  },
  {
   "cell_type": "code",
   "execution_count": 70,
   "metadata": {
    "collapsed": false
   },
   "outputs": [
    {
     "ename": "UnicodeEncodeError",
     "evalue": "'charmap' codec can't encode character '\\U0001f383' in position 88: character maps to <undefined>",
     "output_type": "error",
     "traceback": [
      "\u001b[0;31m---------------------------------------------------------------------------\u001b[0m",
      "\u001b[0;31mUnicodeEncodeError\u001b[0m                        Traceback (most recent call last)",
      "\u001b[0;32m<ipython-input-70-be7907d4f833>\u001b[0m in \u001b[0;36m<module>\u001b[0;34m()\u001b[0m\n\u001b[1;32m      1\u001b[0m \u001b[0mmy_tweets\u001b[0m \u001b[1;33m=\u001b[0m \u001b[0mget_tweets\u001b[0m\u001b[1;33m(\u001b[0m\u001b[1;34m'iphone'\u001b[0m\u001b[1;33m,\u001b[0m \u001b[1;36m10\u001b[0m\u001b[1;33m)\u001b[0m\u001b[1;33m\u001b[0m\u001b[0m\n\u001b[0;32m----> 2\u001b[0;31m \u001b[0mwrite_info_to_csv\u001b[0m\u001b[1;33m(\u001b[0m\u001b[0mmy_tweets\u001b[0m\u001b[1;33m,\u001b[0m\u001b[1;34m'my_tweets.csv'\u001b[0m\u001b[1;33m)\u001b[0m\u001b[1;33m\u001b[0m\u001b[0m\n\u001b[0m",
      "\u001b[0;32m<ipython-input-69-44c1c8a55bbc>\u001b[0m in \u001b[0;36mwrite_info_to_csv\u001b[0;34m(tweet_info_list, csv_file_name)\u001b[0m\n\u001b[1;32m     14\u001b[0m     \u001b[1;32mwith\u001b[0m \u001b[0mopen\u001b[0m\u001b[1;33m(\u001b[0m\u001b[0mcsv_file_name\u001b[0m\u001b[1;33m,\u001b[0m\u001b[1;34m'w'\u001b[0m\u001b[1;33m,\u001b[0m \u001b[0mnewline\u001b[0m\u001b[1;33m=\u001b[0m\u001b[1;34m''\u001b[0m\u001b[1;33m)\u001b[0m \u001b[1;32mas\u001b[0m \u001b[0mmy_file\u001b[0m\u001b[1;33m:\u001b[0m\u001b[1;33m\u001b[0m\u001b[0m\n\u001b[1;32m     15\u001b[0m         \u001b[0mwriter\u001b[0m \u001b[1;33m=\u001b[0m \u001b[0mcsv\u001b[0m\u001b[1;33m.\u001b[0m\u001b[0mwriter\u001b[0m\u001b[1;33m(\u001b[0m\u001b[0mmy_file\u001b[0m\u001b[1;33m)\u001b[0m\u001b[1;33m\u001b[0m\u001b[0m\n\u001b[0;32m---> 16\u001b[0;31m         \u001b[0mwriter\u001b[0m\u001b[1;33m.\u001b[0m\u001b[0mwriterows\u001b[0m\u001b[1;33m(\u001b[0m\u001b[0mtweet_info_list\u001b[0m\u001b[1;33m)\u001b[0m\u001b[1;33m\u001b[0m\u001b[0m\n\u001b[0m",
      "\u001b[0;32mC:\\Users\\User\\Anaconda3\\lib\\encodings\\cp1252.py\u001b[0m in \u001b[0;36mencode\u001b[0;34m(self, input, final)\u001b[0m\n\u001b[1;32m     17\u001b[0m \u001b[1;32mclass\u001b[0m \u001b[0mIncrementalEncoder\u001b[0m\u001b[1;33m(\u001b[0m\u001b[0mcodecs\u001b[0m\u001b[1;33m.\u001b[0m\u001b[0mIncrementalEncoder\u001b[0m\u001b[1;33m)\u001b[0m\u001b[1;33m:\u001b[0m\u001b[1;33m\u001b[0m\u001b[0m\n\u001b[1;32m     18\u001b[0m     \u001b[1;32mdef\u001b[0m \u001b[0mencode\u001b[0m\u001b[1;33m(\u001b[0m\u001b[0mself\u001b[0m\u001b[1;33m,\u001b[0m \u001b[0minput\u001b[0m\u001b[1;33m,\u001b[0m \u001b[0mfinal\u001b[0m\u001b[1;33m=\u001b[0m\u001b[1;32mFalse\u001b[0m\u001b[1;33m)\u001b[0m\u001b[1;33m:\u001b[0m\u001b[1;33m\u001b[0m\u001b[0m\n\u001b[0;32m---> 19\u001b[0;31m         \u001b[1;32mreturn\u001b[0m \u001b[0mcodecs\u001b[0m\u001b[1;33m.\u001b[0m\u001b[0mcharmap_encode\u001b[0m\u001b[1;33m(\u001b[0m\u001b[0minput\u001b[0m\u001b[1;33m,\u001b[0m\u001b[0mself\u001b[0m\u001b[1;33m.\u001b[0m\u001b[0merrors\u001b[0m\u001b[1;33m,\u001b[0m\u001b[0mencoding_table\u001b[0m\u001b[1;33m)\u001b[0m\u001b[1;33m[\u001b[0m\u001b[1;36m0\u001b[0m\u001b[1;33m]\u001b[0m\u001b[1;33m\u001b[0m\u001b[0m\n\u001b[0m\u001b[1;32m     20\u001b[0m \u001b[1;33m\u001b[0m\u001b[0m\n\u001b[1;32m     21\u001b[0m \u001b[1;32mclass\u001b[0m \u001b[0mIncrementalDecoder\u001b[0m\u001b[1;33m(\u001b[0m\u001b[0mcodecs\u001b[0m\u001b[1;33m.\u001b[0m\u001b[0mIncrementalDecoder\u001b[0m\u001b[1;33m)\u001b[0m\u001b[1;33m:\u001b[0m\u001b[1;33m\u001b[0m\u001b[0m\n",
      "\u001b[0;31mUnicodeEncodeError\u001b[0m: 'charmap' codec can't encode character '\\U0001f383' in position 88: character maps to <undefined>"
     ]
    }
   ],
   "source": [
    "my_tweets = get_tweets('iphone', 10)\n",
    "write_info_to_csv(my_tweets,'my_tweets.csv')"
   ]
  },
  {
   "cell_type": "code",
   "execution_count": 14,
   "metadata": {
    "collapsed": false
   },
   "outputs": [
    {
     "data": {
      "text/plain": [
       "'this is a tweet this is second tweet'"
      ]
     },
     "execution_count": 14,
     "metadata": {},
     "output_type": "execute_result"
    }
   ],
   "source": [
    "aggregate_tweets( [ 'this is a tweet' , 'this is second tweet'])"
   ]
  },
  {
   "cell_type": "code",
   "execution_count": 9,
   "metadata": {
    "collapsed": false
   },
   "outputs": [
    {
     "data": {
      "text/plain": [
       "{'everyone': 1, 'hello': 2, 'world': 1}"
      ]
     },
     "execution_count": 9,
     "metadata": {},
     "output_type": "execute_result"
    }
   ],
   "source": [
    "get_word_freq(\"hello world hello everyone\")"
   ]
  },
  {
   "cell_type": "code",
   "execution_count": 25,
   "metadata": {
    "collapsed": true
   },
   "outputs": [],
   "source": [
    "#alternate way for aggregate\n",
    "\n",
    "def agg_tweet(tweets_list_in):\n",
    "    tweets_list_out = ''\n",
    "    for tweet in tweets_list_in:\n",
    "        tweets_list_out = tweets_list_out + ' ' + tweet\n",
    "        \n",
    "        \n",
    "        \n",
    "    return tweets_list_out[1:] # to eliminate the first space (regression test)\n",
    "    "
   ]
  },
  {
   "cell_type": "code",
   "execution_count": 26,
   "metadata": {
    "collapsed": false
   },
   "outputs": [
    {
     "data": {
      "text/plain": [
       "'this is a tweet this is second tweet'"
      ]
     },
     "execution_count": 26,
     "metadata": {},
     "output_type": "execute_result"
    }
   ],
   "source": [
    "agg_tweet( [ 'this is a tweet' , 'this is second tweet'])"
   ]
  },
  {
   "cell_type": "code",
   "execution_count": null,
   "metadata": {
    "collapsed": true
   },
   "outputs": [],
   "source": [
    "aggregate_tweets(tweets_list_in)"
   ]
  }
 ],
 "metadata": {
  "kernelspec": {
   "display_name": "Python 3",
   "language": "python",
   "name": "python3"
  },
  "language_info": {
   "codemirror_mode": {
    "name": "ipython",
    "version": 3
   },
   "file_extension": ".py",
   "mimetype": "text/x-python",
   "name": "python",
   "nbconvert_exporter": "python",
   "pygments_lexer": "ipython3",
   "version": "3.6.0"
  }
 },
 "nbformat": 4,
 "nbformat_minor": 2
}
